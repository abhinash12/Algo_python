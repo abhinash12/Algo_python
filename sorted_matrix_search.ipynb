{
 "cells": [
  {
   "cell_type": "code",
   "execution_count": 1,
   "metadata": {},
   "outputs": [],
   "source": [
    "def matrix_search(m, value):\n",
    "    for i in range(len(m)):\n",
    "        for j in range(len(m[0])):\n",
    "            if m[i][j]== value:\n",
    "                return print(i,j)\n",
    "    print('not found')\n",
    "    \n",
    "# brute force O(n*n)"
   ]
  },
  {
   "cell_type": "code",
   "execution_count": 38,
   "metadata": {},
   "outputs": [],
   "source": [
    "def sorted_matrix_search(m,value):\n",
    "    i=0\n",
    "    j=len(m[0])-1\n",
    "# start at the right top corner\n",
    "    while(i<len(m) and j>=0):\n",
    "        if m[i][j] == value:\n",
    "            return print(i,j)\n",
    "        if m[i][j] > value:\n",
    "            j-=1\n",
    "        if m[i][j] < value:\n",
    "            i+=1\n",
    "    return 0\n",
    "# O(m+n) rows, colums"
   ]
  },
  {
   "cell_type": "code",
   "execution_count": 34,
   "metadata": {},
   "outputs": [],
   "source": [
    "x = [[10, 20, 30, 40],[15, 25, 35, 45],[27, 29, 37, 48]]"
   ]
  },
  {
   "cell_type": "code",
   "execution_count": 35,
   "metadata": {},
   "outputs": [
    {
     "name": "stdout",
     "output_type": "stream",
     "text": [
      "2 2\n"
     ]
    }
   ],
   "source": [
    "matrix_search(x,37)"
   ]
  },
  {
   "cell_type": "code",
   "execution_count": 39,
   "metadata": {},
   "outputs": [
    {
     "name": "stdout",
     "output_type": "stream",
     "text": [
      "0 3\n"
     ]
    }
   ],
   "source": [
    "sorted_matrix_search(x,40)"
   ]
  },
  {
   "cell_type": "code",
   "execution_count": null,
   "metadata": {},
   "outputs": [],
   "source": []
  }
 ],
 "metadata": {
  "kernelspec": {
   "display_name": "Python 3",
   "language": "python",
   "name": "python3"
  },
  "language_info": {
   "codemirror_mode": {
    "name": "ipython",
    "version": 3
   },
   "file_extension": ".py",
   "mimetype": "text/x-python",
   "name": "python",
   "nbconvert_exporter": "python",
   "pygments_lexer": "ipython3",
   "version": "3.6.4"
  }
 },
 "nbformat": 4,
 "nbformat_minor": 2
}
