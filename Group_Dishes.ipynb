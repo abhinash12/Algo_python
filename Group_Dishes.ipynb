{
 "cells": [
  {
   "cell_type": "code",
   "execution_count": 221,
   "metadata": {},
   "outputs": [],
   "source": [
    "def groupDishes(dishes):\n",
    "    dict = {}\n",
    "    items={}\n",
    "    result = []\n",
    "#     for i in range(len(dishes)):\n",
    "#         dict[dishes[i][0]] = dishes[i][1:]\n",
    "    for r in dishes:\n",
    "        dict[r[0]] = r[1:]\n",
    "    for each in dict.values():\n",
    "        for item in each:\n",
    "            if item not in items.keys():\n",
    "                items[item] = 1\n",
    "            else:\n",
    "                items[item] += 1\n",
    "\n",
    "                \n",
    "    for each in items.keys():\n",
    "        if items[each]>1:\n",
    "            result.append([each])\n",
    "    result = sorted(result)\n",
    "            \n",
    "    for each in result:\n",
    "        for food in sorted(dict.keys()):\n",
    "            if each[0] in dict[food]:\n",
    "                each.append(food)\n",
    "                \n",
    "    \n",
    "    return result\n",
    "\n",
    "    "
   ]
  },
  {
   "cell_type": "code",
   "execution_count": 222,
   "metadata": {},
   "outputs": [],
   "source": [
    "d= [[\"Salad\", \"Tomato\", \"Cucumber\", \"Salad\", \"Sauce\"],\n",
    "            [\"Pizza\", \"Tomato\", \"Sausage\", \"Sauce\", \"Dough\"],\n",
    "            [\"Quesadilla\", \"Chicken\", \"Cheese\", \"Sauce\"],\n",
    "            [\"Sandwich\", \"Salad\", \"Bread\", \"Tomato\", \"Cheese\"]]"
   ]
  },
  {
   "cell_type": "code",
   "execution_count": 223,
   "metadata": {},
   "outputs": [
    {
     "data": {
      "text/plain": [
       "[['Cheese', 'Quesadilla', 'Sandwich'],\n",
       " ['Salad', 'Salad', 'Sandwich'],\n",
       " ['Sauce', 'Pizza', 'Quesadilla', 'Salad'],\n",
       " ['Tomato', 'Pizza', 'Salad', 'Sandwich']]"
      ]
     },
     "execution_count": 223,
     "metadata": {},
     "output_type": "execute_result"
    }
   ],
   "source": [
    "groupDishes(d)"
   ]
  },
  {
   "cell_type": "code",
   "execution_count": 224,
   "metadata": {},
   "outputs": [],
   "source": [
    "x = [[\"Pasta\", \"Tomato Sauce\", \"Onions\", \"Garlic\"],\n",
    "            [\"Chicken Curry\", \"Chicken\", \"Curry Sauce\"],\n",
    "            [\"Fried Rice\", \"Rice\", \"Onions\", \"Nuts\"],\n",
    "            [\"Salad\", \"Spinach\", \"Nuts\"],\n",
    "            [\"Sandwich\", \"Cheese\", \"Bread\"],\n",
    "            [\"Quesadilla\", \"Chicken\", \"Cheese\"]]"
   ]
  },
  {
   "cell_type": "code",
   "execution_count": 225,
   "metadata": {},
   "outputs": [
    {
     "data": {
      "text/plain": [
       "[['Cheese', 'Quesadilla', 'Sandwich'],\n",
       " ['Chicken', 'Chicken Curry', 'Quesadilla'],\n",
       " ['Nuts', 'Fried Rice', 'Salad'],\n",
       " ['Onions', 'Fried Rice', 'Pasta']]"
      ]
     },
     "execution_count": 225,
     "metadata": {},
     "output_type": "execute_result"
    }
   ],
   "source": [
    "groupDishes(x)"
   ]
  },
  {
   "cell_type": "code",
   "execution_count": null,
   "metadata": {},
   "outputs": [],
   "source": []
  }
 ],
 "metadata": {
  "kernelspec": {
   "display_name": "Python 3",
   "language": "python",
   "name": "python3"
  },
  "language_info": {
   "codemirror_mode": {
    "name": "ipython",
    "version": 3
   },
   "file_extension": ".py",
   "mimetype": "text/x-python",
   "name": "python",
   "nbconvert_exporter": "python",
   "pygments_lexer": "ipython3",
   "version": "3.6.4"
  }
 },
 "nbformat": 4,
 "nbformat_minor": 2
}
