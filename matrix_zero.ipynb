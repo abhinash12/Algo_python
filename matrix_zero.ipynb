{
 "cells": [
  {
   "cell_type": "code",
   "execution_count": 63,
   "metadata": {},
   "outputs": [],
   "source": [
    "def matrix_z(m):\n",
    "    row = []\n",
    "    col = []\n",
    "    for i in range(len(m)):\n",
    "        for j in range(len(m)):\n",
    "            if m[i][j] == 0:\n",
    "                if i not in row:\n",
    "                    row.append(i)\n",
    "                if j not in col:\n",
    "                    col.append(j)\n",
    "    for each in row:\n",
    "        for j in range(len(m)):\n",
    "            m[each][j] = 0\n",
    "    for each in col:\n",
    "        for i in range(len(m)):\n",
    "            m[i][each] = 0\n",
    "    return m"
   ]
  },
  {
   "cell_type": "code",
   "execution_count": 65,
   "metadata": {},
   "outputs": [
    {
     "data": {
      "text/plain": [
       "[[1, 2, 0], [1, 3, 0], [0, 0, 0]]"
      ]
     },
     "execution_count": 65,
     "metadata": {},
     "output_type": "execute_result"
    }
   ],
   "source": [
    "matrix_z([[1,2,1],[1,3,2],[1,1,0]])"
   ]
  }
 ],
 "metadata": {
  "kernelspec": {
   "display_name": "Python 3",
   "language": "python",
   "name": "python3"
  },
  "language_info": {
   "codemirror_mode": {
    "name": "ipython",
    "version": 3
   },
   "file_extension": ".py",
   "mimetype": "text/x-python",
   "name": "python",
   "nbconvert_exporter": "python",
   "pygments_lexer": "ipython3",
   "version": "3.6.4"
  }
 },
 "nbformat": 4,
 "nbformat_minor": 2
}
