{
 "cells": [
  {
   "cell_type": "code",
   "execution_count": 43,
   "metadata": {},
   "outputs": [],
   "source": [
    "def merge_sort(head):\n",
    "    if head == None or head.next == None:\n",
    "        return head\n",
    "    first_half, second_half = split_half(head)\n",
    "    left = merge_sort(first_half)\n",
    "    right = merge_sort(second_half)\n",
    "    return merge(left, right)\n",
    "\n",
    "def split_half(head):\n",
    "    if head == None:\n",
    "        first_half = None\n",
    "        second_half = None\n",
    "    if head.next == None:\n",
    "        first_half = head\n",
    "        second_half = None\n",
    "    else:\n",
    "        single = head\n",
    "        double = head.next\n",
    "        \n",
    "#       incrementing double at twice the pace, so that at the end of the interation single would be at the middle\n",
    "        \n",
    "        while double != None:\n",
    "            double = double.next\n",
    "            if double != None:\n",
    "                double = double.next\n",
    "                single = single.next\n",
    "        first_half = head\n",
    "        second_half = single.next\n",
    "        \n",
    "        single.next = None\n",
    "        \n",
    "        return first_half, second_half\n",
    "\n",
    "def merge(first, second):\n",
    "            \n",
    "    if first == None:\n",
    "        return second\n",
    "    if second == None:\n",
    "        return first\n",
    "    \n",
    "    else:\n",
    "        new_merge = None\n",
    "        if first.data <= second.data:\n",
    "            new_merge = first\n",
    "            first = first.next\n",
    "        else:\n",
    "            new_merge = second\n",
    "            second = second.next\n",
    "        curr = new_merge\n",
    "        while first != None and second != None:\n",
    "            temp = None\n",
    "            if first.data <= second.data:\n",
    "                temp = first\n",
    "                first = first.next\n",
    "            else:\n",
    "                temp = second\n",
    "                second =second.next\n",
    "            curr.next = temp\n",
    "            curr = temp\n",
    "        if first != None:\n",
    "            curr.next = first\n",
    "        elif second != None:\n",
    "            curr.next = second\n",
    "            \n",
    "        return new_merge.next\n",
    "    \n",
    "        "
   ]
  },
  {
   "cell_type": "code",
   "execution_count": 44,
   "metadata": {},
   "outputs": [],
   "source": [
    "class ListNode:\n",
    "    def __init__(self, x):\n",
    "        self.data = x\n",
    "        self.next = None "
   ]
  },
  {
   "cell_type": "code",
   "execution_count": 45,
   "metadata": {},
   "outputs": [],
   "source": [
    "nodeA1 = ListNode(2)\n",
    "nodeA2 = ListNode(1)\n",
    "nodeA1.next = nodeA2"
   ]
  }
 ],
 "metadata": {
  "kernelspec": {
   "display_name": "Python 3",
   "language": "python",
   "name": "python3"
  },
  "language_info": {
   "codemirror_mode": {
    "name": "ipython",
    "version": 3
   },
   "file_extension": ".py",
   "mimetype": "text/x-python",
   "name": "python",
   "nbconvert_exporter": "python",
   "pygments_lexer": "ipython3",
   "version": "3.6.4"
  }
 },
 "nbformat": 4,
 "nbformat_minor": 2
}
