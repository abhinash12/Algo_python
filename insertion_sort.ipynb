{
 "cells": [
  {
   "cell_type": "code",
   "execution_count": 9,
   "metadata": {},
   "outputs": [],
   "source": [
    "def insert_sort(head):\n",
    "    new_list = None\n",
    "    current = head\n",
    "    while current.next != None:\n",
    "        temp = current.next\n",
    "        new_list = insert_new(new_list, temp)\n",
    "        current = temp\n",
    "    return new_list\n",
    "\n",
    "def insert_new(head, node):\n",
    "    if node == None:\n",
    "        return head\n",
    "    if head == None or node.data <=head.data:\n",
    "        node.next = head\n",
    "        return node\n",
    "    current = head\n",
    "    while current.next != None and current.next.data < head.data:\n",
    "        current = current.next\n",
    "    node.next = current.next\n",
    "    current.next = node\n",
    "    \n",
    "    return head\n",
    "    \n",
    "    "
   ]
  },
  {
   "cell_type": "code",
   "execution_count": 10,
   "metadata": {},
   "outputs": [],
   "source": [
    "class ListNode():\n",
    "    def __init__(self, x):\n",
    "        self.data = x\n",
    "        self.next = None"
   ]
  },
  {
   "cell_type": "code",
   "execution_count": null,
   "metadata": {},
   "outputs": [],
   "source": []
  }
 ],
 "metadata": {
  "kernelspec": {
   "display_name": "Python 3",
   "language": "python",
   "name": "python3"
  },
  "language_info": {
   "codemirror_mode": {
    "name": "ipython",
    "version": 3
   },
   "file_extension": ".py",
   "mimetype": "text/x-python",
   "name": "python",
   "nbconvert_exporter": "python",
   "pygments_lexer": "ipython3",
   "version": "3.6.4"
  }
 },
 "nbformat": 4,
 "nbformat_minor": 2
}
