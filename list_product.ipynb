{
 "cells": [
  {
   "cell_type": "code",
   "execution_count": 37,
   "metadata": {},
   "outputs": [],
   "source": [
    "\n",
    "def product1(list_of_ints):\n",
    "    n = len(list_of_ints)\n",
    "    max_product=0\n",
    "    for i in range(0, n-2):\n",
    "        for j in range(i+1, n-1):\n",
    "            for k in range(j+1,n):\n",
    "                max_product = max(max_product, list_of_ints[i]*list_of_ints[j]*list_of_ints[k])\n",
    "    return max_product\n",
    "\n"
   ]
  },
  {
   "cell_type": "code",
   "execution_count": 38,
   "metadata": {},
   "outputs": [
    {
     "data": {
      "text/plain": [
       "300"
      ]
     },
     "execution_count": 38,
     "metadata": {},
     "output_type": "execute_result"
    }
   ],
   "source": [
    "product1([-10, -10, 1, 3, 2])"
   ]
  },
  {
   "cell_type": "code",
   "execution_count": 41,
   "metadata": {},
   "outputs": [],
   "source": [
    "def product2(list_of_ints):\n",
    "    list1.sort()\n",
    "    return max(list1[0]*list1[1]*list1[n-1], list1[n-1]*list1[n-2]*list1[n-3])"
   ]
  },
  {
   "cell_type": "code",
   "execution_count": 40,
   "metadata": {},
   "outputs": [
    {
     "data": {
      "text/plain": [
       "300"
      ]
     },
     "execution_count": 40,
     "metadata": {},
     "output_type": "execute_result"
    }
   ],
   "source": [
    "product2([-10, -10, 1, 3, 2])"
   ]
  },
  {
   "cell_type": "code",
   "execution_count": 67,
   "metadata": {},
   "outputs": [],
   "source": [
    "def product3(list_of_ints):\n",
    "    high, low = max(list_of_ints[0],list_of_ints[1]), min(list_of_ints[0],list_of_ints[1])\n",
    "    high_prod_2, low_prod_2 = list_of_ints[0]*list_of_ints[1], list_of_ints[0]*list_of_ints[1]\n",
    "    high_prod_3 = 0\n",
    "    for i in range(2, len(list_of_ints)):\n",
    "        current = list_of_ints[i]\n",
    "        high_prod_3 = max(high_prod_3, current*high_prod_2, current*low_prod_2)\n",
    "        high_prod_2 = max(current*high, high_prod_2)\n",
    "        low_prod_2 = min(current*low,low_prod_2)\n",
    "        high = max(current, high)\n",
    "        low = min(current,low)\n",
    "    return high_prod_3\n",
    "        \n",
    "        "
   ]
  },
  {
   "cell_type": "code",
   "execution_count": 72,
   "metadata": {},
   "outputs": [
    {
     "data": {
      "text/plain": [
       "1680"
      ]
     },
     "execution_count": 72,
     "metadata": {},
     "output_type": "execute_result"
    }
   ],
   "source": [
    "product3([-10, -10,1,3,2,10,12,14])"
   ]
  }
 ],
 "metadata": {
  "kernelspec": {
   "display_name": "Python 3",
   "language": "python",
   "name": "python3"
  },
  "language_info": {
   "codemirror_mode": {
    "name": "ipython",
    "version": 3
   },
   "file_extension": ".py",
   "mimetype": "text/x-python",
   "name": "python",
   "nbconvert_exporter": "python",
   "pygments_lexer": "ipython3",
   "version": "3.6.4"
  }
 },
 "nbformat": 4,
 "nbformat_minor": 2
}
