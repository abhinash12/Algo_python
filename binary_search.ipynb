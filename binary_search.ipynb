{
 "cells": [
  {
   "cell_type": "code",
   "execution_count": 1,
   "metadata": {},
   "outputs": [],
   "source": [
    "def binary_search(a, key):\n",
    "  \n",
    "    #TODO: Write - Your - Code\n",
    "    high = len(a)-1\n",
    "    low = 0\n",
    "    while(low<=high):\n",
    "      mid = low + ((high-low)//2)\n",
    "      if a[mid]==key:\n",
    "        return mid\n",
    "      elif a[mid] > key :\n",
    "        high = mid-1\n",
    "      elif a[mid] < key :\n",
    "        low = mid+1   \n",
    "    return -1"
   ]
  },
  {
   "cell_type": "code",
   "execution_count": 4,
   "metadata": {},
   "outputs": [
    {
     "data": {
      "text/plain": [
       "-1"
      ]
     },
     "execution_count": 4,
     "metadata": {},
     "output_type": "execute_result"
    }
   ],
   "source": [
    "binary_search([1,2,3,5,7,9], 10)"
   ]
  },
  {
   "cell_type": "code",
   "execution_count": 7,
   "metadata": {},
   "outputs": [],
   "source": [
    "def bin_search_rec(a, key, low, high):\n",
    "    if low>high:\n",
    "        return -1\n",
    "    mid = low+ ((high - low)//2)\n",
    "    if a[mid] == key:\n",
    "        return mid\n",
    "    if a[mid] > key:\n",
    "        return bin_search_rec(a, key, low, mid -1)\n",
    "    if a[mid] < key:\n",
    "        return bin_search_rec(a, key, mid+1, high)\n",
    "    \n",
    "    "
   ]
  },
  {
   "cell_type": "code",
   "execution_count": 9,
   "metadata": {},
   "outputs": [
    {
     "data": {
      "text/plain": [
       "5"
      ]
     },
     "execution_count": 9,
     "metadata": {},
     "output_type": "execute_result"
    }
   ],
   "source": [
    "bin_search_rec([1,2,3,5,7,9], 9, 0, 5)"
   ]
  },
  {
   "cell_type": "code",
   "execution_count": null,
   "metadata": {},
   "outputs": [],
   "source": []
  }
 ],
 "metadata": {
  "kernelspec": {
   "display_name": "Python 3",
   "language": "python",
   "name": "python3"
  },
  "language_info": {
   "codemirror_mode": {
    "name": "ipython",
    "version": 3
   },
   "file_extension": ".py",
   "mimetype": "text/x-python",
   "name": "python",
   "nbconvert_exporter": "python",
   "pygments_lexer": "ipython3",
   "version": "3.6.4"
  }
 },
 "nbformat": 4,
 "nbformat_minor": 2
}
