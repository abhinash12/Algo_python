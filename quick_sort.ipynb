{
 "cells": [
  {
   "cell_type": "code",
   "execution_count": 36,
   "metadata": {},
   "outputs": [],
   "source": [
    "def quick_sort(a):\n",
    "    quick_sort_rec(a,0, len(a)-1)\n",
    "    return a\n",
    "    \n",
    "def quick_sort_rec(a, start, end):\n",
    "    if start < end :\n",
    "        pivot_val = partition(a,start,end)\n",
    "        quick_sort_rec(a, start, pivot_val-1)\n",
    "        quick_sort_rec(a, pivot_val+1, end)\n",
    "        \n",
    "def partition(a, start, end):\n",
    "    pivot = a[start]\n",
    "    i=start\n",
    "    j=end\n",
    "    \n",
    "    while i<j:\n",
    "        while i <= end and a[i] <= pivot:\n",
    "            i+=1\n",
    "        while a[j]> pivot:\n",
    "            j-=1\n",
    "        if i<j:\n",
    "            a[i],a[j] = a[j],a[i]\n",
    "    a[start] = a[j]\n",
    "    a[j]=pivot\n",
    "    \n",
    "    return j\n",
    "    "
   ]
  },
  {
   "cell_type": "code",
   "execution_count": 37,
   "metadata": {},
   "outputs": [
    {
     "data": {
      "text/plain": [
       "[1, 4, 9, 10, 23, 34]"
      ]
     },
     "execution_count": 37,
     "metadata": {},
     "output_type": "execute_result"
    }
   ],
   "source": [
    "b=[10,4,23,1,9,34]\n",
    "quick_sort(b)"
   ]
  },
  {
   "cell_type": "code",
   "execution_count": 38,
   "metadata": {},
   "outputs": [
    {
     "data": {
      "text/plain": [
       "[2, 3, 4, 5]"
      ]
     },
     "execution_count": 38,
     "metadata": {},
     "output_type": "execute_result"
    }
   ],
   "source": [
    "a=[5,4,3,2]\n",
    "quick_sort(a)"
   ]
  },
  {
   "cell_type": "code",
   "execution_count": 43,
   "metadata": {},
   "outputs": [],
   "source": [
    "def partition_pract(a, start, last):\n",
    "    pivot= a[start]\n",
    "    i=start\n",
    "    j=last\n",
    "    while i<j:\n",
    "        while i<=last and a[i]<=pivot:\n",
    "            i+=1\n",
    "        while a[j]>pivot:\n",
    "            j-=1\n",
    "        if i<j:\n",
    "            a[i],a[j] = a[i], a[j]\n",
    "        a[start]=a[j]\n",
    "        a[j]=pivot\n",
    "        return j\n",
    "    "
   ]
  },
  {
   "cell_type": "code",
   "execution_count": 45,
   "metadata": {},
   "outputs": [
    {
     "data": {
      "text/plain": [
       "8"
      ]
     },
     "execution_count": 45,
     "metadata": {},
     "output_type": "execute_result"
    }
   ],
   "source": [
    "partition_pract([33, 6, 21, 12, 19, 29, 38, 22, 14, 40],0,9)"
   ]
  },
  {
   "cell_type": "code",
   "execution_count": null,
   "metadata": {},
   "outputs": [],
   "source": []
  }
 ],
 "metadata": {
  "kernelspec": {
   "display_name": "Python 3",
   "language": "python",
   "name": "python3"
  },
  "language_info": {
   "codemirror_mode": {
    "name": "ipython",
    "version": 3
   },
   "file_extension": ".py",
   "mimetype": "text/x-python",
   "name": "python",
   "nbconvert_exporter": "python",
   "pygments_lexer": "ipython3",
   "version": "3.6.4"
  }
 },
 "nbformat": 4,
 "nbformat_minor": 2
}
