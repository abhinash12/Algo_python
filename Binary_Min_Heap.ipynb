{
 "cells": [
  {
   "cell_type": "code",
   "execution_count": 116,
   "metadata": {},
   "outputs": [],
   "source": [
    "class BinaryHeap:\n",
    "    def __init__(self):\n",
    "        self.heapItems = [0]\n",
    "        self.heapSize = 0\n",
    "    def prelocateUp(self, i):\n",
    "        while i // 2 >0:\n",
    "            if self.heapItems[i] < self.heapItems[i//2]:\n",
    "                temp = self.heapItems[i//2]\n",
    "                self.heapItems[i] = self.heapItems[i//2]\n",
    "                self.heapItems[i//2] = temp\n",
    "            i = i // 2\n",
    "    def heapInsert(self,k):\n",
    "        self.heapItems.append(k)\n",
    "        self.heapSize += 1\n",
    "        self.prelocateUp(self.heapSize)\n",
    "        \n",
    "    def prelocateDown(self, i):\n",
    "        while (i*2) <= self.heapSize:\n",
    "            num = self.minChild(i)\n",
    "            if self.heapItems[i] > self.heapItems[num]:\n",
    "                temp = self.heapItems[num]\n",
    "                self.heapItems[num] = self.heapItems[i]\n",
    "                self.heapItems[i] = temp\n",
    "            i = num\n",
    "    def minChild(self, i):\n",
    "        if (i*2) + 1 >= self.heapSize:\n",
    "            return i*2\n",
    "        else:\n",
    "            if self.heapItems[i*2]<self.heapItems[i*2+1]:\n",
    "                return i*2\n",
    "            else:\n",
    "                return i*2 + 1\n",
    "                \n",
    "    def deleteMin(self):\n",
    "        val = self.heapItems[1]\n",
    "        self.heapItems[1] = self.heapItems[self.heapSize]\n",
    "        self.heapSize -= 1\n",
    "        self.heapItems.pop()\n",
    "        self.prelocateDown(1)\n",
    "        return val\n",
    "    \n",
    "    def buildHeap(self, new_list):\n",
    "        i = len(new_list) // 2\n",
    "        self.heapSize = len(new_list)\n",
    "        self.heapItems = [0] + new_list[:]\n",
    "        while i > 0:\n",
    "            self.prelocateDown(i)\n",
    "            i-=1"
   ]
  },
  {
   "cell_type": "code",
   "execution_count": 117,
   "metadata": {},
   "outputs": [],
   "source": [
    "heap_1 = BinaryHeap()"
   ]
  },
  {
   "cell_type": "code",
   "execution_count": 96,
   "metadata": {},
   "outputs": [],
   "source": [
    "heap_1.heapInsert(2)"
   ]
  },
  {
   "cell_type": "code",
   "execution_count": 97,
   "metadata": {},
   "outputs": [
    {
     "name": "stdout",
     "output_type": "stream",
     "text": [
      "2\n"
     ]
    }
   ],
   "source": [
    "print(heap_1.deleteMin())"
   ]
  },
  {
   "cell_type": "code",
   "execution_count": 118,
   "metadata": {},
   "outputs": [],
   "source": [
    "heap_1.buildHeap([5,3,7,9])"
   ]
  },
  {
   "cell_type": "code",
   "execution_count": 115,
   "metadata": {},
   "outputs": [
    {
     "ename": "AttributeError",
     "evalue": "'BinaryHeap' object has no attribute 'deleteMin'",
     "output_type": "error",
     "traceback": [
      "\u001b[0;31m---------------------------------------------------------------------------\u001b[0m",
      "\u001b[0;31mAttributeError\u001b[0m                            Traceback (most recent call last)",
      "\u001b[0;32m<ipython-input-115-b7eb27e561ec>\u001b[0m in \u001b[0;36m<module>\u001b[0;34m()\u001b[0m\n\u001b[0;32m----> 1\u001b[0;31m \u001b[0mprint\u001b[0m\u001b[0;34m(\u001b[0m\u001b[0mheap_1\u001b[0m\u001b[0;34m.\u001b[0m\u001b[0mdeleteMin\u001b[0m\u001b[0;34m(\u001b[0m\u001b[0;34m)\u001b[0m\u001b[0;34m)\u001b[0m\u001b[0;34m\u001b[0m\u001b[0m\n\u001b[0m\u001b[1;32m      2\u001b[0m \u001b[0mprint\u001b[0m\u001b[0;34m(\u001b[0m\u001b[0mheap_1\u001b[0m\u001b[0;34m.\u001b[0m\u001b[0mdeleteMin\u001b[0m\u001b[0;34m(\u001b[0m\u001b[0;34m)\u001b[0m\u001b[0;34m)\u001b[0m\u001b[0;34m\u001b[0m\u001b[0m\n\u001b[1;32m      3\u001b[0m \u001b[0mprint\u001b[0m\u001b[0;34m(\u001b[0m\u001b[0mheap_1\u001b[0m\u001b[0;34m.\u001b[0m\u001b[0mdeleteMin\u001b[0m\u001b[0;34m(\u001b[0m\u001b[0;34m)\u001b[0m\u001b[0;34m)\u001b[0m\u001b[0;34m\u001b[0m\u001b[0m\n\u001b[1;32m      4\u001b[0m \u001b[0mprint\u001b[0m\u001b[0;34m(\u001b[0m\u001b[0mheap_1\u001b[0m\u001b[0;34m.\u001b[0m\u001b[0mdeleteMin\u001b[0m\u001b[0;34m(\u001b[0m\u001b[0;34m)\u001b[0m\u001b[0;34m)\u001b[0m\u001b[0;34m\u001b[0m\u001b[0m\n",
      "\u001b[0;31mAttributeError\u001b[0m: 'BinaryHeap' object has no attribute 'deleteMin'"
     ]
    }
   ],
   "source": [
    "print(heap_1.deleteMin())\n",
    "print(heap_1.deleteMin())\n",
    "print(heap_1.deleteMin())\n",
    "print(heap_1.deleteMin())"
   ]
  },
  {
   "cell_type": "code",
   "execution_count": null,
   "metadata": {},
   "outputs": [],
   "source": []
  }
 ],
 "metadata": {
  "kernelspec": {
   "display_name": "Python 3",
   "language": "python",
   "name": "python3"
  },
  "language_info": {
   "codemirror_mode": {
    "name": "ipython",
    "version": 3
   },
   "file_extension": ".py",
   "mimetype": "text/x-python",
   "name": "python",
   "nbconvert_exporter": "python",
   "pygments_lexer": "ipython3",
   "version": "3.6.4"
  }
 },
 "nbformat": 4,
 "nbformat_minor": 2
}
